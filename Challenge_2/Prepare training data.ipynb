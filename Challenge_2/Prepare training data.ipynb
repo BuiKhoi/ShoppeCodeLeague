{
 "cells": [
  {
   "cell_type": "code",
   "execution_count": 1,
   "metadata": {},
   "outputs": [],
   "source": [
    "import os\n",
    "import cv2\n",
    "import time\n",
    "import numpy as np\n",
    "from threading import Thread"
   ]
  },
  {
   "cell_type": "code",
   "execution_count": 2,
   "metadata": {},
   "outputs": [],
   "source": [
    "image_folder = './shopee-product-detection-dataset/train/train/'"
   ]
  },
  {
   "cell_type": "code",
   "execution_count": 3,
   "metadata": {},
   "outputs": [],
   "source": [
    "def process_folder(image_class_path):\n",
    "    image_class = image_class_path.split('/')[-2]\n",
    "    print('Processing {}'.format(image_class))\n",
    "    for image_file in os.listdir(image_class_path):\n",
    "#         if '_83.npz' in image_file:\n",
    "#             os.remove(image_class_path + image_file)\n",
    "#             continue\n",
    "        if '.jpg' in image_file:\n",
    "#             print('Processing image {}                   '.format(image_file), end='\\r')\n",
    "            image = cv2.imread(image_class_path + image_file)\n",
    "            image_detection = np.load(image_class_path + image_file.replace('.jpg', '.npz'))['data']\n",
    "            training_image = np.concatenate([image, image_detection], 2)\n",
    "            training_image = cv2.resize(training_image, (224, 224))\n",
    "#             print(training_image.shape)\n",
    "            np.savez_compressed(image_class_path + image_file.replace('.jpg', '_83.npz'), data=training_image)"
   ]
  },
  {
   "cell_type": "code",
   "execution_count": 4,
   "metadata": {},
   "outputs": [],
   "source": [
    "image_classes = []\n",
    "for image_class in os.listdir(image_folder):\n",
    "    image_class_path = image_folder + image_class + '/'\n",
    "    image_classes.append(image_class_path)"
   ]
  },
  {
   "cell_type": "code",
   "execution_count": null,
   "metadata": {},
   "outputs": [
    {
     "name": "stdout",
     "output_type": "stream",
     "text": [
      "Processing 00\n",
      "Processing 01\n",
      "Processing 02\n",
      "Processing 03\n",
      "Processing 04\n",
      "Processing 05\n"
     ]
    }
   ],
   "source": [
    "process_threads = []\n",
    "max_thread = 3\n",
    "for image_class in image_classes:\n",
    "    process_threads.append(Thread(target=process_folder, args = [image_class]))\n",
    "    process_threads[-1].start()\n",
    "    if len(process_threads) == max_thread:\n",
    "        checking = True\n",
    "        while checking:\n",
    "            for thread in reversed(process_threads):\n",
    "                if not thread.isAlive():\n",
    "                    process_threads.remove(thread)\n",
    "                    checking = False\n",
    "                else:\n",
    "                    time.sleep(1)"
   ]
  },
  {
   "cell_type": "code",
   "execution_count": null,
   "metadata": {},
   "outputs": [],
   "source": []
  }
 ],
 "metadata": {
  "kernelspec": {
   "display_name": "Python 3",
   "language": "python",
   "name": "python3"
  },
  "language_info": {
   "codemirror_mode": {
    "name": "ipython",
    "version": 3
   },
   "file_extension": ".py",
   "mimetype": "text/x-python",
   "name": "python",
   "nbconvert_exporter": "python",
   "pygments_lexer": "ipython3",
   "version": "3.6.9"
  }
 },
 "nbformat": 4,
 "nbformat_minor": 2
}
