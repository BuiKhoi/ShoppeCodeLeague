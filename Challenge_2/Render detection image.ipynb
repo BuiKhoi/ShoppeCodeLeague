{
 "cells": [
  {
   "cell_type": "code",
   "execution_count": 1,
   "metadata": {},
   "outputs": [],
   "source": [
    "from mmdet.apis import init_detector, inference_detector, show_result_pyplot, show_result\n",
    "import mmcv\n",
    "import numpy as np\n",
    "from matplotlib import pyplot as plt\n",
    "import cv2\n",
    "import os\n",
    "from threading import Thread\n",
    "import time"
   ]
  },
  {
   "cell_type": "code",
   "execution_count": 2,
   "metadata": {},
   "outputs": [],
   "source": [
    "config_file = 'DetectoRS/configs/DetectoRS/DetectoRS_mstrain_400_1200_x101_32x4d_40e.py'\n",
    "# download the checkpoint from model zoo and put it in `checkpoints/`\n",
    "checkpoint_file = 'DetectoRS/checkpoints/DetectoRS_X101-ed983634.pth'\n",
    "# build the model from a config file and a checkpoint file\n",
    "model = init_detector(config_file, checkpoint_file, device='cuda:0')"
   ]
  },
  {
   "cell_type": "code",
   "execution_count": 3,
   "metadata": {},
   "outputs": [],
   "source": [
    "def render_detection_image(image_file, result):\n",
    "    image = cv2.imread(image_file)\n",
    "    h, w, _ = image.shape\n",
    "    blanks = np.zeros((h, w, 80), np.uint8)\n",
    "    \n",
    "    for i in range(80):\n",
    "        for bbox in result[i]:\n",
    "            tl = (int(bbox[0]), int(bbox[1]))\n",
    "            br = (int(bbox[2]), int(bbox[3]))\n",
    "\n",
    "            blanks[tl[1]:br[1], tl[0]:br[0], i] = int(bbox[-1] * 255)\n",
    "    \n",
    "    return blanks"
   ]
  },
  {
   "cell_type": "code",
   "execution_count": 4,
   "metadata": {},
   "outputs": [],
   "source": [
    "def get_detection_image(img):\n",
    "    result = inference_detector(model, img)\n",
    "    return render_detection_image(img, np.array(result[0]))"
   ]
  },
  {
   "cell_type": "code",
   "execution_count": 8,
   "metadata": {},
   "outputs": [],
   "source": [
    "image_folder = './shopee-product-detection-dataset/train/val/'"
   ]
  },
  {
   "cell_type": "code",
   "execution_count": 6,
   "metadata": {},
   "outputs": [],
   "source": [
    "def process_image_folder(class_path):\n",
    "    print('Processing class ' + class_path.split('/')[-2])\n",
    "    for image_file in os.listdir(class_path):\n",
    "        if '.jpg' not in image_file:\n",
    "            continue\n",
    "        image_path = class_path + image_file\n",
    "        detection_image = get_detection_image(image_path)\n",
    "        np.savez_compressed(image_path.replace('.jpg', ''), data = detection_image)\n",
    "    print('Done ' + class_path.split('/')[-2])    "
   ]
  },
  {
   "cell_type": "code",
   "execution_count": null,
   "metadata": {
    "scrolled": false
   },
   "outputs": [
    {
     "name": "stdout",
     "output_type": "stream",
     "text": [
      "Processing class 00\n",
      "Done 00\n",
      "Processing class 01\n",
      "Done 01\n",
      "Processing class 02\n",
      "Done 02\n",
      "Processing class 03\n",
      "Done 03\n",
      "Processing class 04\n",
      "Done 04\n",
      "Processing class 05\n",
      "Done 05\n",
      "Processing class 06\n",
      "Done 06\n",
      "Processing class 07\n",
      "Done 07\n",
      "Processing class 08\n",
      "Done 08\n",
      "Processing class 09\n",
      "Done 09\n",
      "Processing class 10\n"
     ]
    }
   ],
   "source": [
    "threads = []\n",
    "thread_limit = 5\n",
    "for class_folder in os.listdir(image_folder):\n",
    "    class_path = image_folder + class_folder + '/'\n",
    "    process_image_folder(class_path)\n",
    "#     threads.append(Thread(target = process_image_folder, args = [class_path]))\n",
    "#     threads[-1].start()\n",
    "#     if len(threads) == thread_limit:\n",
    "#         while True:\n",
    "#             for thread in reversed(threads):\n",
    "#                 if not thread.isAlive():\n",
    "#                     threads.remove(thread)\n",
    "#                     break\n",
    "#                 else:\n",
    "#                     time.sleep(1)"
   ]
  },
  {
   "cell_type": "code",
   "execution_count": null,
   "metadata": {},
   "outputs": [],
   "source": []
  }
 ],
 "metadata": {
  "kernelspec": {
   "display_name": "Python 3",
   "language": "python",
   "name": "python3"
  },
  "language_info": {
   "codemirror_mode": {
    "name": "ipython",
    "version": 3
   },
   "file_extension": ".py",
   "mimetype": "text/x-python",
   "name": "python",
   "nbconvert_exporter": "python",
   "pygments_lexer": "ipython3",
   "version": "3.6.9"
  }
 },
 "nbformat": 4,
 "nbformat_minor": 2
}
