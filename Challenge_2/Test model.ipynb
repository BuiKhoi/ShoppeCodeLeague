{
 "cells": [
  {
   "cell_type": "code",
   "execution_count": 5,
   "metadata": {},
   "outputs": [],
   "source": [
    "from keras.models import load_model, model_from_json\n",
    "from keras.preprocessing.image import ImageDataGenerator\n",
    "from keras.optimizers import Adam"
   ]
  },
  {
   "cell_type": "code",
   "execution_count": 2,
   "metadata": {},
   "outputs": [],
   "source": [
    "train_gen = ImageDataGenerator()\n",
    "val_gen = ImageDataGenerator()"
   ]
  },
  {
   "cell_type": "code",
   "execution_count": 3,
   "metadata": {},
   "outputs": [
    {
     "name": "stdout",
     "output_type": "stream",
     "text": [
      "Found 79007 images belonging to 42 classes.\n",
      "Found 26385 images belonging to 42 classes.\n"
     ]
    }
   ],
   "source": [
    "train_gen = train_gen.flow_from_directory('./shopee-product-detection-dataset/train/train/', (224, 224))\n",
    "val_gen = val_gen.flow_from_directory('./shopee-product-detection-dataset/train/val/', (224, 224))"
   ]
  },
  {
   "cell_type": "code",
   "execution_count": 6,
   "metadata": {},
   "outputs": [],
   "source": [
    "# test_model = load_model('./Checkpoints/model_and_weights.h5')\n",
    "with open('./Checkpoints/model.json', 'r') as model_file:\n",
    "    test_model = model_from_json(model_file.read())"
   ]
  },
  {
   "cell_type": "code",
   "execution_count": 7,
   "metadata": {},
   "outputs": [],
   "source": [
    "test_model.compile(optimizer=Adam(1e-4), loss='categorical_crossentropy', metrics=['accuracy'])"
   ]
  },
  {
   "cell_type": "code",
   "execution_count": 10,
   "metadata": {},
   "outputs": [
    {
     "name": "stdout",
     "output_type": "stream",
     "text": [
      "Epoch 1/50\n",
      "1700/1700 [==============================] - 2451s 1s/step - loss: 3.4678 - accuracy: 0.0886 - val_loss: 3.9808 - val_accuracy: 0.0254\n",
      "Epoch 2/50\n",
      "1700/1700 [==============================] - 2280s 1s/step - loss: 3.0486 - accuracy: 0.1848 - val_loss: 4.8078 - val_accuracy: 0.0247\n",
      "Epoch 3/50\n",
      "1700/1700 [==============================] - 2159s 1s/step - loss: 2.8026 - accuracy: 0.2498 - val_loss: 4.9876 - val_accuracy: 0.0254\n",
      "Epoch 4/50\n",
      "1700/1700 [==============================] - 2276s 1s/step - loss: 2.5941 - accuracy: 0.3047 - val_loss: 4.0213 - val_accuracy: 0.1096\n",
      "Epoch 5/50\n",
      "1700/1700 [==============================] - 2765s 2s/step - loss: 2.4110 - accuracy: 0.3483 - val_loss: 2.1427 - val_accuracy: 0.2953\n",
      "Epoch 6/50\n",
      "1700/1700 [==============================] - 2643s 2s/step - loss: 2.2794 - accuracy: 0.3838 - val_loss: 1.9742 - val_accuracy: 0.3580\n",
      "Epoch 7/50\n",
      "1700/1700 [==============================] - 2796s 2s/step - loss: 2.1369 - accuracy: 0.4225 - val_loss: 2.0170 - val_accuracy: 0.3337\n",
      "Epoch 8/50\n",
      "1700/1700 [==============================] - 2936s 2s/step - loss: 2.0196 - accuracy: 0.4481 - val_loss: 2.2754 - val_accuracy: 0.3748\n",
      "Epoch 9/50\n",
      "1700/1700 [==============================] - 2611s 2s/step - loss: 1.9200 - accuracy: 0.4738 - val_loss: 2.7033 - val_accuracy: 0.3867\n",
      "Epoch 10/50\n",
      "1700/1700 [==============================] - 2536s 1s/step - loss: 1.8391 - accuracy: 0.4975 - val_loss: 3.1022 - val_accuracy: 0.4035\n",
      "Epoch 11/50\n",
      "1700/1700 [==============================] - 2543s 1s/step - loss: 1.7185 - accuracy: 0.5273 - val_loss: 3.0144 - val_accuracy: 0.4179\n",
      "Epoch 12/50\n",
      "1700/1700 [==============================] - 2538s 1s/step - loss: 1.6623 - accuracy: 0.5424 - val_loss: 2.9334 - val_accuracy: 0.4536\n",
      "Epoch 13/50\n",
      "1700/1700 [==============================] - 2552s 2s/step - loss: 1.6016 - accuracy: 0.5565 - val_loss: 1.7787 - val_accuracy: 0.4291\n",
      "Epoch 14/50\n",
      "1700/1700 [==============================] - 2547s 1s/step - loss: 1.4816 - accuracy: 0.5871 - val_loss: 2.1237 - val_accuracy: 0.4506\n",
      "Epoch 15/50\n",
      "1700/1700 [==============================] - 2541s 1s/step - loss: 1.4352 - accuracy: 0.5978 - val_loss: 2.2392 - val_accuracy: 0.4456\n",
      "Epoch 16/50\n",
      "1700/1700 [==============================] - 2543s 1s/step - loss: 1.4037 - accuracy: 0.6074 - val_loss: 3.7115 - val_accuracy: 0.4460\n",
      "Epoch 17/50\n",
      "1700/1700 [==============================] - 2541s 1s/step - loss: 1.2742 - accuracy: 0.6368 - val_loss: 3.1892 - val_accuracy: 0.4457\n",
      "Epoch 18/50\n",
      "1700/1700 [==============================] - 2534s 1s/step - loss: 1.2250 - accuracy: 0.6500 - val_loss: 2.4665 - val_accuracy: 0.4575\n",
      "Epoch 19/50\n",
      "1700/1700 [==============================] - 2526s 1s/step - loss: 1.2236 - accuracy: 0.6508 - val_loss: 2.4023 - val_accuracy: 0.4755\n",
      "Epoch 20/50\n",
      "1700/1700 [==============================] - 2539s 1s/step - loss: 1.1198 - accuracy: 0.6776 - val_loss: 2.9063 - val_accuracy: 0.4628\n",
      "Epoch 21/50\n",
      "1700/1700 [==============================] - 2537s 1s/step - loss: 1.0600 - accuracy: 0.6929 - val_loss: 3.3253 - val_accuracy: 0.4682\n",
      "Epoch 22/50\n",
      "1700/1700 [==============================] - 2543s 1s/step - loss: 1.0472 - accuracy: 0.6959 - val_loss: 2.0307 - val_accuracy: 0.4377\n",
      "Epoch 23/50\n",
      "1700/1700 [==============================] - 2554s 2s/step - loss: 0.9894 - accuracy: 0.7102 - val_loss: 1.9831 - val_accuracy: 0.4476\n",
      "Epoch 24/50\n",
      "1700/1700 [==============================] - 2543s 1s/step - loss: 0.9198 - accuracy: 0.7309 - val_loss: 1.5166 - val_accuracy: 0.4449\n",
      "Epoch 25/50\n",
      "1700/1700 [==============================] - 2551s 2s/step - loss: 0.9024 - accuracy: 0.7338 - val_loss: 2.4495 - val_accuracy: 0.4427\n",
      "Epoch 26/50\n",
      "1700/1700 [==============================] - 2557s 2s/step - loss: 0.8770 - accuracy: 0.7398 - val_loss: 3.7931 - val_accuracy: 0.4061\n",
      "Epoch 27/50\n",
      "1700/1700 [==============================] - 2544s 1s/step - loss: 0.8025 - accuracy: 0.7575 - val_loss: 1.8484 - val_accuracy: 0.4693\n",
      "Epoch 28/50\n",
      "1700/1700 [==============================] - 2520s 1s/step - loss: 0.7871 - accuracy: 0.7647 - val_loss: 2.8112 - val_accuracy: 0.4127\n",
      "Epoch 29/50\n",
      "1700/1700 [==============================] - 2526s 1s/step - loss: 0.7900 - accuracy: 0.7622 - val_loss: 2.4173 - val_accuracy: 0.4615\n",
      "Epoch 30/50\n",
      "1700/1700 [==============================] - 2502s 1s/step - loss: 0.6885 - accuracy: 0.7913 - val_loss: 2.0958 - val_accuracy: 0.4514\n",
      "Epoch 31/50\n",
      "1700/1700 [==============================] - 2637s 2s/step - loss: 0.6926 - accuracy: 0.7883 - val_loss: 1.8891 - val_accuracy: 0.4454\n",
      "Epoch 32/50\n",
      "1700/1700 [==============================] - 2886s 2s/step - loss: 0.6963 - accuracy: 0.7866 - val_loss: 4.2649 - val_accuracy: 0.4521\n",
      "Epoch 33/50\n",
      "1700/1700 [==============================] - 2906s 2s/step - loss: 0.6203 - accuracy: 0.8090 - val_loss: 2.9388 - val_accuracy: 0.4146\n",
      "Epoch 34/50\n",
      "1700/1700 [==============================] - 2861s 2s/step - loss: 0.6134 - accuracy: 0.8120 - val_loss: 2.4812 - val_accuracy: 0.4496\n",
      "Epoch 35/50\n",
      "1700/1700 [==============================] - 2871s 2s/step - loss: 0.6194 - accuracy: 0.8110 - val_loss: 4.3715 - val_accuracy: 0.4178\n",
      "Epoch 36/50\n",
      "1700/1700 [==============================] - 2830s 2s/step - loss: 0.5666 - accuracy: 0.8240 - val_loss: 2.7656 - val_accuracy: 0.4407\n",
      "Epoch 37/50\n",
      "1700/1700 [==============================] - 2898s 2s/step - loss: 0.5410 - accuracy: 0.8316 - val_loss: 2.7210 - val_accuracy: 0.4331\n",
      "Epoch 38/50\n",
      "1700/1700 [==============================] - 3163s 2s/step - loss: 0.5427 - accuracy: 0.8320 - val_loss: 3.5254 - val_accuracy: 0.4555\n",
      "Epoch 39/50\n",
      "1700/1700 [==============================] - 3075s 2s/step - loss: 0.5296 - accuracy: 0.8347 - val_loss: 1.7264 - val_accuracy: 0.4481\n",
      "Epoch 40/50\n",
      "1700/1700 [==============================] - 2970s 2s/step - loss: 0.4786 - accuracy: 0.8494 - val_loss: 3.6758 - val_accuracy: 0.4604\n",
      "Epoch 41/50\n",
      "1700/1700 [==============================] - 2867s 2s/step - loss: 0.4885 - accuracy: 0.8467 - val_loss: 4.9088 - val_accuracy: 0.4328\n",
      "Epoch 42/50\n",
      "1700/1700 [==============================] - 2731s 2s/step - loss: 0.4853 - accuracy: 0.8472 - val_loss: 1.8069 - val_accuracy: 0.4706\n",
      "Epoch 43/50\n",
      "1700/1700 [==============================] - 2642s 2s/step - loss: 0.4328 - accuracy: 0.8617 - val_loss: 4.8615 - val_accuracy: 0.4336\n",
      "Epoch 44/50\n",
      "1700/1700 [==============================] - 2622s 2s/step - loss: 0.4344 - accuracy: 0.8621 - val_loss: 2.7885 - val_accuracy: 0.4462\n",
      "Epoch 45/50\n",
      "1700/1700 [==============================] - 2621s 2s/step - loss: 0.4510 - accuracy: 0.8595 - val_loss: 4.4241 - val_accuracy: 0.4077\n",
      "Epoch 46/50\n",
      "1700/1700 [==============================] - 2613s 2s/step - loss: 0.3863 - accuracy: 0.8775 - val_loss: 3.8915 - val_accuracy: 0.4301\n",
      "Epoch 47/50\n",
      "1700/1700 [==============================] - 2600s 2s/step - loss: 0.3923 - accuracy: 0.8749 - val_loss: 4.6617 - val_accuracy: 0.4569\n",
      "Epoch 48/50\n",
      "1700/1700 [==============================] - 2575s 2s/step - loss: 0.4126 - accuracy: 0.8681 - val_loss: 2.5729 - val_accuracy: 0.4784\n",
      "Epoch 49/50\n",
      "1700/1700 [==============================] - 2570s 2s/step - loss: 0.3622 - accuracy: 0.8856 - val_loss: 3.5895 - val_accuracy: 0.4648\n",
      "Epoch 50/50\n",
      "1700/1700 [==============================] - 2549s 1s/step - loss: 0.3573 - accuracy: 0.8880 - val_loss: 4.0774 - val_accuracy: 0.4880\n"
     ]
    }
   ],
   "source": [
    "history = test_model.fit_generator(train_gen, 1700, epochs=50, validation_data=val_gen)"
   ]
  },
  {
   "cell_type": "code",
   "execution_count": 11,
   "metadata": {},
   "outputs": [],
   "source": [
    "test_model.save('./Checkpoints/model_and_weights_khoi.h5')"
   ]
  },
  {
   "cell_type": "code",
   "execution_count": null,
   "metadata": {},
   "outputs": [],
   "source": []
  }
 ],
 "metadata": {
  "kernelspec": {
   "display_name": "Python 3",
   "language": "python",
   "name": "python3"
  },
  "language_info": {
   "codemirror_mode": {
    "name": "ipython",
    "version": 3
   },
   "file_extension": ".py",
   "mimetype": "text/x-python",
   "name": "python",
   "nbconvert_exporter": "python",
   "pygments_lexer": "ipython3",
   "version": "3.6.9"
  }
 },
 "nbformat": 4,
 "nbformat_minor": 2
}
